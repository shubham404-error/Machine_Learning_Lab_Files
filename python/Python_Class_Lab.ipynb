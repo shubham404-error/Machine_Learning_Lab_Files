{
  "nbformat": 4,
  "nbformat_minor": 0,
  "metadata": {
    "colab": {
      "provenance": []
    },
    "kernelspec": {
      "name": "python3",
      "display_name": "Python 3"
    },
    "language_info": {
      "name": "python"
    },
    "accelerator": "TPU",
    "gpuClass": "standard"
  },
  "cells": [
    {
      "cell_type": "markdown",
      "source": [
        "# **Lab Assessment-1**\n",
        "Submitted By 20BAI10152"
      ],
      "metadata": {
        "id": "P1csHcyBXk22"
      }
    },
    {
      "cell_type": "markdown",
      "source": [
        "Q1. Write a program to print numbers from 1 to 20 except multiple of 2 & 3."
      ],
      "metadata": {
        "id": "AXA6R_18JBDF"
      }
    },
    {
      "cell_type": "code",
      "execution_count": null,
      "metadata": {
        "colab": {
          "base_uri": "https://localhost:8080/"
        },
        "id": "syVsHq0cIhIl",
        "outputId": "b3a3632a-3a44-4288-f28c-64851e3780ea"
      },
      "outputs": [
        {
          "output_type": "stream",
          "name": "stdout",
          "text": [
            "0 1 4 5 6 7 8 9 10 11 12 13 14 15 16 17 18 19 \n",
            "\n"
          ]
        }
      ],
      "source": [
        "# to print numbers from 1 to 20 except multiple of 2 & 3\n",
        "\n",
        "for x in range(20):\n",
        "\n",
        "    if (x == 2 or x==3):\n",
        "\n",
        "        continue\n",
        "\n",
        "    print(x,end=' ')\n",
        "\n",
        "print(\"\\n\")"
      ]
    },
    {
      "cell_type": "markdown",
      "source": [
        "Q2 Write a program that keep on accepting number from the user until user enters Zero. Display the sum and average of all the numbers"
      ],
      "metadata": {
        "id": "PqFVsBf_JGfN"
      }
    },
    {
      "cell_type": "code",
      "source": [
        "print(\"Input some integers to calculate their sum and average. Input 0 to exit.\")\n",
        "\n",
        "count = 0\n",
        "sum = 0.0\n",
        "number = 1\n",
        "\n",
        "while number != 0:\n",
        "\tnumber = int(input(\"\"))\n",
        "\tsum = sum + number\n",
        "\tcount += 1\n",
        "\n",
        "if count == 0:\n",
        "\tprint(\"Input some numbers\")\n",
        "else:\n",
        "\tprint(\"Average and Sum of the above numbers are: \", sum / (count-1), sum)"
      ],
      "metadata": {
        "id": "m6H8aWn8JRYf",
        "colab": {
          "base_uri": "https://localhost:8080/"
        },
        "outputId": "b0520af9-249b-4300-92ef-64001e1e95bf"
      },
      "execution_count": null,
      "outputs": [
        {
          "output_type": "stream",
          "name": "stdout",
          "text": [
            "Input some integers to calculate their sum and average. Input 0 to exit.\n",
            "10\n",
            "12\n",
            "0\n",
            "Average and Sum of the above numbers are:  11.0 22.0\n"
          ]
        }
      ]
    },
    {
      "cell_type": "markdown",
      "source": [
        "Q3) Write a program to accept decimal number and display its binary number."
      ],
      "metadata": {
        "id": "PDrA-RfCJTOK"
      }
    },
    {
      "cell_type": "code",
      "source": [
        "def DecimalToBinary(num):\n",
        "     \n",
        "    if num >= 1:\n",
        "        DecimalToBinary(num // 2)\n",
        "    print(num % 2, end = '')\n",
        " \n",
        "# Driver Code\n",
        "if __name__ == '__main__':\n",
        "     \n",
        "    # decimal value\n",
        "    dec_val = 55\n",
        "     \n",
        "    # Calling function\n",
        "    DecimalToBinary(dec_val)"
      ],
      "metadata": {
        "id": "eWM28CRAJS7g",
        "colab": {
          "base_uri": "https://localhost:8080/"
        },
        "outputId": "32803b03-9bd0-4747-de74-56f4846c0f42"
      },
      "execution_count": null,
      "outputs": [
        {
          "output_type": "stream",
          "name": "stdout",
          "text": [
            "0110111"
          ]
        }
      ]
    },
    {
      "cell_type": "markdown",
      "source": [
        "Q4. Write a function to display prime numbers below any number accepted from the user."
      ],
      "metadata": {
        "id": "vZW01PWRJSV0"
      }
    },
    {
      "cell_type": "code",
      "source": [
        "upper_value = int(input (\"Please, Enter the Upper Range Value: \"))  \n",
        "  \n",
        "print (\"The Prime Numbers in the range are: \")  \n",
        "for number in range (upper_value + 1):  \n",
        "    if number > 1:  \n",
        "        for i in range (2, number):  \n",
        "            if (number % i) == 0:  \n",
        "                break  \n",
        "        else:  \n",
        "            print (number)  "
      ],
      "metadata": {
        "id": "QxkOEBSGJR7H",
        "colab": {
          "base_uri": "https://localhost:8080/"
        },
        "outputId": "97fee03b-f497-4e9e-d1bc-eeb91e865002"
      },
      "execution_count": null,
      "outputs": [
        {
          "output_type": "stream",
          "name": "stdout",
          "text": [
            "Please, Enter the Upper Range Value: 50\n",
            "The Prime Numbers in the range are: \n",
            "2\n",
            "3\n",
            "5\n",
            "7\n",
            "11\n",
            "13\n",
            "17\n",
            "19\n",
            "23\n",
            "29\n",
            "31\n",
            "37\n",
            "41\n",
            "43\n",
            "47\n"
          ]
        }
      ]
    },
    {
      "cell_type": "markdown",
      "source": [
        "Q5. Write a program to print first 10 even numbers."
      ],
      "metadata": {
        "id": "b4DOUatFL8q4"
      }
    },
    {
      "cell_type": "code",
      "source": [
        "print(\"The First 10 Even Natural Numbers\")\n",
        "\n",
        "for i in range(1, 11):\n",
        "    print(2 * i)"
      ],
      "metadata": {
        "colab": {
          "base_uri": "https://localhost:8080/"
        },
        "id": "bppWa330VJpE",
        "outputId": "d25a6908-c175-4161-a125-d0855ad3c540"
      },
      "execution_count": null,
      "outputs": [
        {
          "output_type": "stream",
          "name": "stdout",
          "text": [
            "The First 10 Even Natural Numbers\n",
            "2\n",
            "4\n",
            "6\n",
            "8\n",
            "10\n",
            "12\n",
            "14\n",
            "16\n",
            "18\n",
            "20\n"
          ]
        }
      ]
    },
    {
      "cell_type": "markdown",
      "source": [
        "Q6. Write a program to print table of a number accepted from user"
      ],
      "metadata": {
        "id": "UCeptlQgMIGB"
      }
    },
    {
      "cell_type": "code",
      "source": [
        "num = int(input(\"Enter the number: \"))\n",
        "\n",
        "print(\"Multiplication Table of\", num)\n",
        "for i in range(1, 11):\n",
        "   print(num,\"X\",i,\"=\",num * i)"
      ],
      "metadata": {
        "colab": {
          "base_uri": "https://localhost:8080/"
        },
        "id": "TmUpO5wGOOBL",
        "outputId": "c3671a1b-9eb2-448a-c9ab-cf7e67a184a3"
      },
      "execution_count": null,
      "outputs": [
        {
          "output_type": "stream",
          "name": "stdout",
          "text": [
            "Enter the number: 10\n",
            "Multiplication Table of 10\n",
            "10 X 1 = 10\n",
            "10 X 2 = 20\n",
            "10 X 3 = 30\n",
            "10 X 4 = 40\n",
            "10 X 5 = 50\n",
            "10 X 6 = 60\n",
            "10 X 7 = 70\n",
            "10 X 8 = 80\n",
            "10 X 9 = 90\n",
            "10 X 10 = 100\n"
          ]
        }
      ]
    },
    {
      "cell_type": "markdown",
      "source": [
        "Q7. Write a program to find the sum of the digits of a number accepted from user."
      ],
      "metadata": {
        "id": "IKJyNo3KOFRM"
      }
    },
    {
      "cell_type": "code",
      "source": [
        "def getSum(n):\n",
        " \n",
        "    sum = 0\n",
        "    while (n != 0):\n",
        " \n",
        "        sum = sum + int(n % 10)\n",
        "        n = int(n/10)\n",
        " \n",
        "    return sum\n",
        " \n",
        " \n",
        "n = 687\n",
        "print(getSum(n))"
      ],
      "metadata": {
        "colab": {
          "base_uri": "https://localhost:8080/"
        },
        "id": "dNBxixh6Oa7r",
        "outputId": "9fa6ec90-9acd-4986-8198-a53ed6c657fe"
      },
      "execution_count": null,
      "outputs": [
        {
          "output_type": "stream",
          "name": "stdout",
          "text": [
            "21\n"
          ]
        }
      ]
    },
    {
      "cell_type": "markdown",
      "source": [
        "Q8. Write python program to print list of numbers using range and for loop"
      ],
      "metadata": {
        "id": "iSlfCAw5OGkz"
      }
    },
    {
      "cell_type": "code",
      "source": [
        "start = int(input(\"Enter the start of range: \"))\n",
        "end = int(input(\"Enter the end of range: \"))\n",
        "  \n",
        "# iterating each number in list\n",
        "for num in range(start, end + 1):\n",
        "      \n",
        "    # checking condition\n",
        "    if num >= 0:\n",
        "        print(num, end = \" \")"
      ],
      "metadata": {
        "colab": {
          "base_uri": "https://localhost:8080/"
        },
        "id": "qxfzfAR4O0um",
        "outputId": "0de0c419-5807-4941-e9bf-c1c5abd4a16f"
      },
      "execution_count": null,
      "outputs": [
        {
          "output_type": "stream",
          "name": "stdout",
          "text": [
            "Enter the start of range: 20\n",
            "Enter the end of range: 50\n",
            "20 21 22 23 24 25 26 27 28 29 30 31 32 33 34 35 36 37 38 39 40 41 42 43 44 45 46 47 48 49 50 "
          ]
        }
      ]
    },
    {
      "cell_type": "markdown",
      "source": [
        "Q9) Write python program to print first n prime number"
      ],
      "metadata": {
        "id": "5BoKzToIJQfR"
      }
    },
    {
      "cell_type": "code",
      "source": [
        "\n",
        "numr=int(input(\"Enter range:\"))\n",
        "\n",
        "print(\"Prime numbers:\",end=' ')\n",
        "\n",
        "for n in range(1,numr):\n",
        "\n",
        "    for i in range(2,n):\n",
        "\n",
        "        if(n%i==0):\n",
        "\n",
        "            break\n",
        "\n",
        "    else:\n",
        "\n",
        "        print(n,end=' ')  "
      ],
      "metadata": {
        "colab": {
          "base_uri": "https://localhost:8080/"
        },
        "id": "MVP_V8keKqqg",
        "outputId": "c62fde07-0dda-4e96-f877-95ac13ba6268"
      },
      "execution_count": null,
      "outputs": [
        {
          "output_type": "stream",
          "name": "stdout",
          "text": [
            "Enter range:26\n",
            "Prime numbers: 1 2 3 5 7 11 13 17 19 23 "
          ]
        }
      ]
    },
    {
      "cell_type": "markdown",
      "source": [
        "Q10. Write python program in which afunction (with single string parameter) is defined and calling that function prints the string parameters given to function."
      ],
      "metadata": {
        "id": "SwK-vRuYNocg"
      }
    },
    {
      "cell_type": "code",
      "source": [
        "def func(str):\n",
        "    print(\"The String Parameter given to the function is {}.\".format(str))\n",
        "\n",
        "str = input(\"Enter a String: \")\n",
        "\n",
        "\n",
        "func(str)"
      ],
      "metadata": {
        "colab": {
          "base_uri": "https://localhost:8080/"
        },
        "id": "_Npf5rb0W2te",
        "outputId": "67f52900-d9c3-4ed8-e541-7e850f4e1a7a"
      },
      "execution_count": null,
      "outputs": [
        {
          "output_type": "stream",
          "name": "stdout",
          "text": [
            "Enter a String: Hello World\n",
            "The String Parameter given to the function is Hello World.\n"
          ]
        }
      ]
    },
    {
      "cell_type": "markdown",
      "source": [
        "Q11. Write a python program to confirm that 2 strings have the same identity."
      ],
      "metadata": {
        "id": "bVDV563lNRKh"
      }
    },
    {
      "cell_type": "code",
      "source": [
        "str1 = \"Text\"\n",
        "str2 = \"Text\"\n",
        " \n",
        "print(\"\\nMemory location of str1 =\", hex(id(str1)))\n",
        "print(\"Memory location of str2 =\", hex(id(str2)))\n",
        "print()\n",
        "print(hex(id(str1)) == hex(id(str2)))\n"
      ],
      "metadata": {
        "colab": {
          "base_uri": "https://localhost:8080/"
        },
        "id": "v-b12SvpPSoh",
        "outputId": "f7a89801-82f8-4888-897a-743f36c7629d"
      },
      "execution_count": null,
      "outputs": [
        {
          "output_type": "stream",
          "name": "stdout",
          "text": [
            "\n",
            "Memory location of str1 = 0x7fe5bd205130\n",
            "Memory location of str2 = 0x7fe5bd205130\n",
            "\n",
            "True\n"
          ]
        }
      ]
    },
    {
      "cell_type": "markdown",
      "source": [
        "Q12. Write a python program tocheck if each word in a string begins with a capital letter"
      ],
      "metadata": {
        "id": "t4CYgWy1LT4p"
      }
    },
    {
      "cell_type": "code",
      "source": [
        "s1=\"My name is Shubham\"\n",
        "for word in s1.split():\n",
        "    if word[0].isupper():\n",
        "        print ('the words which start with capital letters are ',word)"
      ],
      "metadata": {
        "id": "K5FU3NzOLWTs",
        "colab": {
          "base_uri": "https://localhost:8080/"
        },
        "outputId": "0486144c-0f7f-4c5a-eb76-30abdc1c94a4"
      },
      "execution_count": null,
      "outputs": [
        {
          "output_type": "stream",
          "name": "stdout",
          "text": [
            "the words which start with capital letters are  My\n",
            "the words which start with capital letters are  Shubham\n"
          ]
        }
      ]
    },
    {
      "cell_type": "markdown",
      "source": [
        "Q13. Write a python program to find the index of the first occurrence of a substring in a string."
      ],
      "metadata": {
        "id": "fmrGrO3TK-RS"
      }
    },
    {
      "cell_type": "code",
      "source": [
        "string = 'My college name is VIT Bhopal'\n",
        "substring = 'name'\n",
        "\n",
        "index = string.find(substring)\n",
        "print(index)"
      ],
      "metadata": {
        "id": "O6urzbAHLGKe",
        "colab": {
          "base_uri": "https://localhost:8080/"
        },
        "outputId": "fb065296-7a35-487a-dae2-8cf60fc54272"
      },
      "execution_count": null,
      "outputs": [
        {
          "output_type": "stream",
          "name": "stdout",
          "text": [
            "11\n"
          ]
        }
      ]
    },
    {
      "cell_type": "markdown",
      "source": [
        "Q14. Write a python program to count the number of a specific character in a string."
      ],
      "metadata": {
        "id": "N0gwz7JXKErf"
      }
    },
    {
      "cell_type": "code",
      "source": [
        "s = \"Shubham and Ruds are good friends.\"  \n",
        "print(\"Original string:\")\n",
        "print(s)\n",
        "print(\"Number of occurrence of 'o' in the said string:\")\n",
        "ctr = 0 \n",
        "for c in s:\n",
        "   if c == 'u':\n",
        "       ctr = ctr + 1\n",
        "print(ctr)\n"
      ],
      "metadata": {
        "id": "RyUwnWnIKG8G",
        "colab": {
          "base_uri": "https://localhost:8080/"
        },
        "outputId": "d3818ef6-8d79-4da4-e884-f1f0adb26b6a"
      },
      "execution_count": null,
      "outputs": [
        {
          "output_type": "stream",
          "name": "stdout",
          "text": [
            "Original string:\n",
            "Shubham and Ruds are good friends.\n",
            "Number of occurrence of 'o' in the said string:\n",
            "2\n"
          ]
        }
      ]
    },
    {
      "cell_type": "markdown",
      "source": [
        "Q15. Write a python program to show the use of f-string and format() function used with the string."
      ],
      "metadata": {
        "id": "j2IlTRs2MdzB"
      }
    },
    {
      "cell_type": "code",
      "source": [
        "# Python3 program introducing f-string\n",
        "val1 = 'Shubham'\n",
        "val2 = 'boy'\n",
        "print(f\" {val1} is a hardworking {val2}.\")\n",
        " \n",
        "name = 'Parv'\n",
        "age = 20\n",
        "\n",
        "print(f\" {name} is Shubham's friend and he is {age} years old.\")"
      ],
      "metadata": {
        "id": "mjUExwEaM3CT",
        "colab": {
          "base_uri": "https://localhost:8080/"
        },
        "outputId": "71d01c45-1860-47a6-e716-a19989f9f6dd"
      },
      "execution_count": null,
      "outputs": [
        {
          "output_type": "stream",
          "name": "stdout",
          "text": [
            " Shubham is a hardworking boy.\n",
            " Parv is Shubham's friend and he is 20 years old.\n"
          ]
        }
      ]
    }
  ]
}