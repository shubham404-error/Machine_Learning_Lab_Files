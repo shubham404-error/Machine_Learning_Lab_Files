{
  "nbformat": 4,
  "nbformat_minor": 0,
  "metadata": {
    "colab": {
      "provenance": []
    },
    "kernelspec": {
      "name": "python3",
      "display_name": "Python 3"
    },
    "language_info": {
      "name": "python"
    }
  },
  "cells": [
    {
      "cell_type": "markdown",
      "source": [
        "## Challenging Tasks "
      ],
      "metadata": {
        "id": "jGr6MYWSUed-"
      }
    },
    {
      "cell_type": "markdown",
      "source": [
        "Given the participants' score sheet for your University Sports Day, you are required to find the runner-up n score. You are given scores. Store them in a list and find the score of the runner-up.\n",
        "\n",
        "Input Format\n",
        "The first line contains n. The second line contains an array A[] of n integers each separated by a space.\n",
        "\n",
        "Constraints\n",
        "2 <= n <= 10 -100 <= A[i] <= 100"
      ],
      "metadata": {
        "id": "2tyIVfMS-2mU"
      }
    },
    {
      "cell_type": "code",
      "execution_count": null,
      "metadata": {
        "colab": {
          "base_uri": "https://localhost:8080/"
        },
        "id": "d35KwVJM-xCa",
        "outputId": "736975bd-dcd9-440d-b417-ed528844edec"
      },
      "outputs": [
        {
          "output_type": "stream",
          "name": "stdout",
          "text": [
            "8\n",
            "5 4 5 8 10 1\n",
            "8\n"
          ]
        }
      ],
      "source": [
        "if __name__ == '__main__':\n",
        "    n = int(input())\n",
        "    array = map(int, input().split())\n",
        "\n",
        "    li = list(array)\n",
        "    scores = list()\n",
        "\n",
        "    for score in li:\n",
        "        if score not in scores:\n",
        "            scores.append(score)\n",
        "        else :\n",
        "            continue\n",
        "    order = sorted(scores, reverse=True)\n",
        "    print(order[1])"
      ]
    },
    {
      "cell_type": "markdown",
      "source": [
        " Given the number of hours and minutes browsed, write a program to calculate bill for Internet\n",
        "Browsing in a browsing center. The conditions are given below.\n",
        "(a) 2 Hour Rs.100\n",
        "(b) 2 minute Re. 2\n",
        "(c) Rs. 300 for five hours\n",
        "Boundary condition: User can only browse for a maximum of 9 hours"
      ],
      "metadata": {
        "id": "od0HGaBz_Bd9"
      }
    },
    {
      "cell_type": "code",
      "source": [
        "h=float(input(\"enter number of hours\"))\n",
        "m=float(input(\"enter number of minutes\"))\n",
        "if h>9:\n",
        "    print(\"invalid input\")\n",
        "elif h>=5 and h<=9:\n",
        "      amt=300\n",
        "      h=h-5\n",
        "      total=h*50+m+amt #for 2 hrs 100 Rs then for 1 hour 50 Rs \n",
        "elif h<5:\n",
        "      total=h*50+m\n",
        "print (total)"
      ],
      "metadata": {
        "colab": {
          "base_uri": "https://localhost:8080/"
        },
        "id": "yt0kwtGTI2mh",
        "outputId": "38876a50-a3aa-4138-96e5-b973544e34ae"
      },
      "execution_count": null,
      "outputs": [
        {
          "output_type": "stream",
          "name": "stdout",
          "text": [
            "enter number of hours8\n",
            "enter number of minutes40\n",
            "490.0\n"
          ]
        }
      ]
    },
    {
      "cell_type": "markdown",
      "source": [
        "Ganesh has got some amount ‘x’ in hand and he wants to purchase a laptop of cost less than or equal to x.\n",
        "But he likes the laptop to have a bigger screen. Given the amount ‘x’ in hand and the details of laptop, write\n",
        "a python code to print the details of the laptop that fits in budget and has maximum screen area. If no laptop\n",
        "fits in his budget then print ‘No laptop’\n"
      ],
      "metadata": {
        "id": "ZdePN8aOBEjN"
      }
    },
    {
      "cell_type": "code",
      "source": [
        "x = int(input(\"Amount with Ganesh: \")) \n",
        "laptops = {\"A\":{\"Price\":53000,\"Size of Screen\" : 32}, \"B\":{\"Price\":59000,\"Size of Screen\" : 42}, \"C\":{\"Price\":37000,\"Size of Screen\" : 72}, \"D\":{\"Price\":80000,\"Size of Screen\" : 52}} \n",
        "max_size = 0 \n",
        "for i in laptops.keys(): \n",
        "  if(laptops[i][\"Price\"]<= x): \n",
        "    max_size = max(max_size, laptops[i][\"Size of Screen\"]) \n",
        "  else: \n",
        "    continue\n",
        "if(max_size == 0):\n",
        "  print(\"No Laptop in Budget\")\n",
        "else:\n",
        "  for i in laptops.keys(): \n",
        "    if(laptops[i][\"Size of Screen\"] == max_size): \n",
        "      print(\"Details of Laptop in Budget\") \n",
        "      print(\"Name of Laptop = \", i) \n",
        "      print(\"Price = \", laptops[i][\"Price\"]) \n",
        "      print(\"Size of Screen = \", laptops[i][\"Size of Screen\"]) \n",
        "      break"
      ],
      "metadata": {
        "id": "l2UYUAb_BD4y",
        "colab": {
          "base_uri": "https://localhost:8080/"
        },
        "outputId": "3ed1b525-53b1-4fec-87b1-38bbadcdc4ea"
      },
      "execution_count": null,
      "outputs": [
        {
          "output_type": "stream",
          "name": "stdout",
          "text": [
            "Amount with Ganesh: 55000\n",
            "Details of Laptop in Budget\n",
            "Name of Laptop =  C\n",
            "Price =  37000\n",
            "Size of Screen =  72\n"
          ]
        }
      ]
    },
    {
      "cell_type": "markdown",
      "source": [
        " Write a program that asks the user how many credits they have taken. If they have taken 23 or less, print\n",
        "that the student is a freshman. If they have taken between 24 and 53, print that they are a sophomore. The\n",
        "range for juniors is 54 to 83, and for seniors it is 84 and over."
      ],
      "metadata": {
        "id": "zrRrAfIzBMN9"
      }
    },
    {
      "cell_type": "code",
      "source": [
        "n = int(input(\"How many credits they have taken?\"))\n",
        "\n",
        "if(n<=23):      \n",
        "    print(\"The student is a freshman\")\n",
        "\n",
        "elif(n>=24 and n<=53):  \n",
        "    print(\"They are a sophomore\")\n",
        "\n",
        "elif(n>=54 and n<=83): \n",
        "    print(\"The range for juniors\")\n",
        "\n",
        "elif(n>=84):   \n",
        "    print(\"The range for seniors\")"
      ],
      "metadata": {
        "colab": {
          "base_uri": "https://localhost:8080/"
        },
        "id": "L7_U11G6BLxe",
        "outputId": "4bed83f9-38a5-4871-d6a4-43a05132a174"
      },
      "execution_count": null,
      "outputs": [
        {
          "output_type": "stream",
          "name": "stdout",
          "text": [
            "How many credits they have taken?15\n",
            "The student is a freshman\n"
          ]
        }
      ]
    }
  ]
}