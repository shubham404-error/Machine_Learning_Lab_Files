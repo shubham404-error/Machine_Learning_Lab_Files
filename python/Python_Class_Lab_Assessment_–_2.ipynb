{
  "nbformat": 4,
  "nbformat_minor": 0,
  "metadata": {
    "colab": {
      "provenance": []
    },
    "kernelspec": {
      "name": "python3",
      "display_name": "Python 3"
    },
    "language_info": {
      "name": "python"
    }
  },
  "cells": [
    {
      "cell_type": "markdown",
      "source": [
        "# **LAB** **ASSESSMENT** **-** **2**"
      ],
      "metadata": {
        "id": "fEcAhebmW3kI"
      }
    },
    {
      "cell_type": "markdown",
      "source": [
        "NAME: **Shubham Tejani**\n"
      ],
      "metadata": {
        "id": "EJO_BMjzdFyW"
      }
    },
    {
      "cell_type": "markdown",
      "source": [
        "## Question-1\n",
        "Write a program to perform the following operations on complex numbers.\n"
      ],
      "metadata": {
        "id": "h7S12L5Lxoau"
      }
    },
    {
      "cell_type": "code",
      "source": [
        "def addComplex( z1, z2):\n",
        "    return z1 + z2\n",
        "def subComplex( z1, z2):\n",
        "\treturn z1-z2\n",
        "def mulComplex(z1, z2):\n",
        "\treturn z1*z2\n",
        "def compareComplex( z1, z2):\n",
        "  if z1 != z2:\n",
        "    return 'Not Equal'\n",
        "  else: \n",
        "    return 'Equal'\n",
        "# driver program\n",
        "z1 = complex(2, 3)\n",
        "z2 = complex(1, 2)\n",
        "print('Addition is:',addComplex(z1,z2))\n",
        "print( \"Subtraction is : \", subComplex(z1, z2))\n",
        "print( \"Multiplication is : \", mulComplex(z1, z2))\n",
        "print( \"Complex numbers are: \", compareComplex(z1, z2))\n",
        "a=abs(z1)\n",
        "b=abs(z2)\n",
        "print('Check if C1>=C2',a>=b)\n",
        "print('Check if C1<=C2',a<=b)"
      ],
      "metadata": {
        "id": "rPfGciqRxryr",
        "outputId": "2538a697-ebd7-4687-e5a3-fac0fe36f032",
        "colab": {
          "base_uri": "https://localhost:8080/"
        }
      },
      "execution_count": null,
      "outputs": [
        {
          "output_type": "stream",
          "name": "stdout",
          "text": [
            "Addition is: (3+5j)\n",
            "Subtraction is :  (1+1j)\n",
            "Multiplication is :  (-4+7j)\n",
            "Complex numbers are:  Not Equal\n",
            "Check if C1>=C2 True\n",
            "Check if C1<=C2 False\n"
          ]
        }
      ]
    },
    {
      "cell_type": "markdown",
      "source": [
        "## Question-2\n",
        " Write Python program to create a Python class named Circle constructed by a radius and two\n",
        "methods which will compute the area and the perimeter of a circle. Access the methods and\n",
        "variables with the object of class Circle"
      ],
      "metadata": {
        "id": "kau__NxKwgPS"
      }
    },
    {
      "cell_type": "code",
      "source": [
        "class Circle():\n",
        "    def __init__(self, r):\n",
        "        self.radius = r\n",
        "\n",
        "    def area(self):\n",
        "        return self.radius**2*3.14\n",
        "    \n",
        "    def perimeter(self):\n",
        "        return 2*self.radius*3.14\n",
        "\n",
        "NewCircle = Circle(8)\n",
        "print(NewCircle.area())\n",
        "print(NewCircle.perimeter())"
      ],
      "metadata": {
        "colab": {
          "base_uri": "https://localhost:8080/"
        },
        "id": "hSwk12KIwlIZ",
        "outputId": "f70ce23d-ffb5-4576-dd8d-e0488837a7cc"
      },
      "execution_count": null,
      "outputs": [
        {
          "output_type": "stream",
          "name": "stdout",
          "text": [
            "200.96\n",
            "50.24\n"
          ]
        }
      ]
    },
    {
      "cell_type": "markdown",
      "source": [
        "## Question-3\n",
        " Create a Python class named Rectangle constructed by a length and width and a method which\n",
        "will compute the area of a rectangle. Access the methods and variables with the object of class"
      ],
      "metadata": {
        "id": "YvVudTybwSN9"
      }
    },
    {
      "cell_type": "code",
      "source": [
        "class Rectangle():\n",
        "    def __init__(self, l, w):\n",
        "        self.length = l\n",
        "        self.width  = w\n",
        "\n",
        "    def rectangle_area(self):\n",
        "        return self.length*self.width\n",
        "\n",
        "newRectangle = Rectangle(12, 10)\n",
        "print(newRectangle.rectangle_area())"
      ],
      "metadata": {
        "colab": {
          "base_uri": "https://localhost:8080/"
        },
        "id": "NpPLM9JxwXDy",
        "outputId": "250d82b0-5b52-4cc2-c2a1-74626c0d96b6"
      },
      "execution_count": null,
      "outputs": [
        {
          "output_type": "stream",
          "name": "stdout",
          "text": [
            "120\n"
          ]
        }
      ]
    },
    {
      "cell_type": "markdown",
      "source": [
        "## Question-4\n",
        "Define a class called Address that has two attributes: number and street name. Make sure you\n",
        "have an __init__ method that initializes the object appropriately. You do not need to define\n",
        "any other methods"
      ],
      "metadata": {
        "id": "PHefAU_yxtnd"
      }
    },
    {
      "cell_type": "code",
      "source": [
        "class Address:\n",
        "\tdef __init__(self, street, num):\n",
        "\t\tself.street_name = street\n",
        "\t\tself.number = num"
      ],
      "metadata": {
        "id": "C3Ctv1Q_xv-6"
      },
      "execution_count": null,
      "outputs": []
    },
    {
      "cell_type": "markdown",
      "source": [
        "## Question-5\n",
        "For this exercise, we want you to describe a generic superclass and at least three subclasses of\n",
        "that superclass, listing at least two attributes that each class would have. Remember what\n",
        "classes will inherit (will subclasses inherit attributes from their parent class? Will parent classes\n",
        "inherit from their subclasses? Will subclasses that share a parent inherit from one another? Be\n",
        "sure you’re clear on this before continuing with this exercise.) It’s easiest to simply describe a\n",
        "real-world object."
      ],
      "metadata": {
        "id": "WtcQKqEOx3j-"
      }
    },
    {
      "cell_type": "code",
      "source": [
        "class School:\n",
        "    def __init__(self, name, no_of_students):\n",
        "        self.name = name\n",
        "        self.no_of_students = no_of_students\n",
        "    \n",
        "    def print(self):\n",
        "        print(f'\\nInstitute Name: {self.name}')\n",
        "        print(f'No. Of Students: {self.no_of_students}')\n",
        "\n",
        "class PreSchool(School):\n",
        "    def __init__(self, name, no_of_students, no_of_teachers, highest_grade):\n",
        "        super().__init__(name, no_of_students)\n",
        "        self.no_of_teachers = no_of_teachers\n",
        "        self.highest_grade = highest_grade\n",
        "    \n",
        "    def print(self):\n",
        "        super().print()\n",
        "        print(f'Starting Class: {self.no_of_teachers}')\n",
        "        print(f'Final Class: {self.highest_grade}')\n",
        "\n",
        "class HighSchool(School):\n",
        "    def __init__(self, name, no_of_students, no_of_teachers, highest_grade):\n",
        "        super().__init__(name, no_of_students)\n",
        "        self.no_of_teachers = no_of_teachers\n",
        "        self.highest_grade = highest_grade\n",
        "    \n",
        "    def print(self):\n",
        "        super().print()\n",
        "        print(f'No. of Teachers: {self.no_of_teachers}')\n",
        "        print(f'Final Class: {self.highest_grade}')\n",
        "\n",
        "class College(School):\n",
        "    def __init__(self, name, no_of_students, no_of_courses, no_of_faculties):\n",
        "        super().__init__(name, no_of_students)\n",
        "        self.no_of_courses = no_of_courses\n",
        "        self.no_of_faculties = no_of_faculties\n",
        "    \n",
        "    def print(self):\n",
        "        super().print()\n",
        "        print(f'No. Of Faculties: {self.no_of_faculties}')\n",
        "        print(f'No. Of Courses: {self.no_of_courses}')\n",
        "\n",
        "\n",
        "# Driver Code\n",
        "hills_nursery = PreSchool(\"Mindseed\", 1500, -3, -1)\n",
        "hills_nursery.print()\n",
        "\n",
        "dps = HighSchool(\"Christ Convent School\", 5000, 1, 12)\n",
        "dps.print()\n",
        "\n",
        "vit = College(\"MGM Institute Of Technology\", 12000, 18, 350)\n",
        "vit.print()\n"
      ],
      "metadata": {
        "id": "va2x_uHPx52t",
        "colab": {
          "base_uri": "https://localhost:8080/"
        },
        "outputId": "468c5f1b-8d90-440f-f4ab-32bdd2af8229"
      },
      "execution_count": null,
      "outputs": [
        {
          "output_type": "stream",
          "name": "stdout",
          "text": [
            "\n",
            "Institute Name: Mindseed\n",
            "No. Of Students: 1500\n",
            "Starting Class: -3\n",
            "Final Class: -1\n",
            "\n",
            "Institute Name: Christ Convent School\n",
            "No. Of Students: 5000\n",
            "No. of Teachers: 1\n",
            "Final Class: 12\n",
            "\n",
            "Institute Name: MGM Institute Of Technology\n",
            "No. Of Students: 12000\n",
            "No. Of Faculties: 350\n",
            "No. Of Courses: 18\n"
          ]
        }
      ]
    },
    {
      "cell_type": "markdown",
      "source": [
        "## Question-6\n",
        "Write a Python program to create a Person class\n",
        "\n",
        "a) without any variables and methods\n",
        "\n",
        "b) with name and valid_id as instance attributes. Also, according to your choice two class\n",
        "variables.\n",
        "\n",
        "c) define two class methods as per your choice.\n",
        "\n",
        "d) create a child class Student that will inherit all of the variables and methods of class “Person”. Also, define its own variables and methods."
      ],
      "metadata": {
        "id": "3lLIClVlx7G2"
      }
    },
    {
      "cell_type": "code",
      "source": [
        "class Person:\n",
        "    def __init__(self, name, valid_id):\n",
        "        self.name = name\n",
        "        self.valid_id = valid_id\n",
        "\n",
        "    def print(self):\n",
        "        print(f'\\nName: {self.name}')\n",
        "        print(f'Valid ID: {self.valid_id}')\n",
        "\n",
        "class Student(Person):\n",
        "    def __init__(self, name, valid_id, age):\n",
        "        super().__init__(name, valid_id)\n",
        "        self.age = age\n",
        "\n",
        "    def print(self):\n",
        "        super().print()  \n",
        "        print(f'Age: {self.age}')\n",
        "\n",
        "    def change_age(self, age):\n",
        "        self.age = age\n",
        "\n",
        "    def change_name(self, name):\n",
        "        self.name = name\n",
        "    \n",
        "# Driver Code\n",
        "student = Student(\"Priya Kapoor\", \"202232123\", \"18\")\n",
        "student.print()\n",
        "\n",
        "student.change_age(19)\n",
        "student.change_name(\"Riya Kapoor\")\n",
        "student.print()"
      ],
      "metadata": {
        "id": "7cejAuL6x-PZ",
        "colab": {
          "base_uri": "https://localhost:8080/"
        },
        "outputId": "041cf9d2-cb04-46b9-ad62-978598298604"
      },
      "execution_count": null,
      "outputs": [
        {
          "output_type": "stream",
          "name": "stdout",
          "text": [
            "\n",
            "Name: Priya Kapoor\n",
            "Valid ID: 202232123\n",
            "Age: 18\n",
            "\n",
            "Name: Riya Kapoor\n",
            "Valid ID: 202232123\n",
            "Age: 19\n"
          ]
        }
      ]
    },
    {
      "cell_type": "markdown",
      "source": [
        "##Question-7\n",
        "Write a Python class named Student with two instances student1, student2 and assign given\n",
        "values to the said instances attributes. Print all the attributes of student1, student2 instances\n",
        "with their values in the given format."
      ],
      "metadata": {
        "id": "woB-FmGavXZn"
      }
    },
    {
      "cell_type": "code",
      "source": [
        "class Student:\n",
        "    school = 'IT'\n",
        "    address = '201,Vashi,Navi Mumbai' \n",
        "student1 = Student()\n",
        "student2 = Student() \n",
        "student1.student_id = \"20BAI10152\"\n",
        "student1.student_name = \"Ranveer Beck\"\n",
        "student2.student_id = \"20BAI10149\"\n",
        "student2.marks_language = 85\n",
        "student2.marks_science = 93\n",
        "student2.marks_math = 95 \n",
        "students = [student1, student2]\n",
        "for student in students:\n",
        "    print('\\n')\n",
        "    for attr in student.__dict__:\n",
        "        print(f'{attr} -> {getattr(student, attr)}')"
      ],
      "metadata": {
        "colab": {
          "base_uri": "https://localhost:8080/"
        },
        "id": "bU8yQH61vfsO",
        "outputId": "86e677ad-de28-4cda-f055-971cc7d2a749"
      },
      "execution_count": null,
      "outputs": [
        {
          "output_type": "stream",
          "name": "stdout",
          "text": [
            "\n",
            "\n",
            "student_id -> 20BAI10152\n",
            "student_name -> Ranveer Beck\n",
            "\n",
            "\n",
            "student_id -> 20BAI10149\n",
            "marks_language -> 85\n",
            "marks_science -> 93\n",
            "marks_math -> 95\n"
          ]
        }
      ]
    },
    {
      "cell_type": "markdown",
      "source": [
        "##Question-8\n",
        "Create a Class “Animal” and implement multiple inheritance with two child classes “Horse”,\n",
        "“Cow”. Define a property that must have the same value for every class instance (object).\n",
        "Create three instance variable in the base class. Only create the child classes, no need to define\n",
        "them.\n"
      ],
      "metadata": {
        "id": "e7SRoGG75jY4"
      }
    },
    {
      "cell_type": "code",
      "source": [
        "class Animal:\n",
        "    def __init__(self, type, name, color, age):\n",
        "        self.type = type\n",
        "        self.name = name\n",
        "        self.color = color\n",
        "        self.age = age\n",
        "\n",
        "    def print(self):\n",
        "        print(f'Type: {self.type}, Name: {self.name}, Color: {self.color}, Age: {self.age}')\n",
        "    \n",
        "class Horse(Animal):\n",
        "    pass\n",
        "\n",
        "class Cow(Animal):\n",
        "    pass\n",
        "\n",
        "class Sheep(Animal):\n",
        "    pass\n",
        "\n",
        "horse = Horse(\"Domestic\", \"Horse\", \"Black\", 12)\n",
        "horse.print()\n",
        "\n",
        "cow = Cow(\"Domestic\", \"Cow\", \"White\", 5)\n",
        "cow.print()"
      ],
      "metadata": {
        "id": "D2sSh6GE5izF",
        "colab": {
          "base_uri": "https://localhost:8080/"
        },
        "outputId": "49903286-f0fc-4805-fdd8-9246a1c91b6e"
      },
      "execution_count": null,
      "outputs": [
        {
          "output_type": "stream",
          "name": "stdout",
          "text": [
            "Type: Domestic, Name: Horse, Color: Black, Age: 12\n",
            "Type: Domestic, Name: Cow, Color: White, Age: 5\n"
          ]
        }
      ]
    },
    {
      "cell_type": "markdown",
      "source": [
        "##Question-9\n",
        "What will be the output of the following Python code?"
      ],
      "metadata": {
        "id": "8f4MbauS5j8l"
      }
    },
    {
      "cell_type": "code",
      "source": [
        "class Test:\n",
        "  def __init__(self):\n",
        "    self.x = 1\n",
        "  def x_value(self):\n",
        "    self.x = 10\n",
        "  \n",
        "class Test_derived(Test):\n",
        "  def x_value(self):\n",
        "    self.x=self.x+1\n",
        "    return self.x\n",
        "    \n",
        "def main():\n",
        "  obj = Test_derived()\n",
        "  print(obj.x_value())\n",
        "  \n",
        "main()"
      ],
      "metadata": {
        "id": "_bOscJdg5ikF",
        "colab": {
          "base_uri": "https://localhost:8080/"
        },
        "outputId": "09a7b4e3-a304-4a7f-95b2-6eb0c6d04536"
      },
      "execution_count": null,
      "outputs": [
        {
          "output_type": "stream",
          "name": "stdout",
          "text": [
            "2\n"
          ]
        }
      ]
    },
    {
      "cell_type": "markdown",
      "source": [
        "## Question-10\n",
        "Write a program in python to do matrix multiplication, addition and subtraction"
      ],
      "metadata": {
        "id": "32VGOfWDu8lB"
      }
    },
    {
      "cell_type": "code",
      "source": [
        "# importing numpy as np\n",
        "import numpy as np\n",
        "\n",
        "\n",
        "# creating first matrix\n",
        "A = np.array([[1, 2], [3, 4]])\n",
        "\n",
        "# creating second matrix\n",
        "B = np.array([[4, 5], [6, 7]])\n",
        "\n",
        "print(\"Printing elements of first matrix\")\n",
        "print(A)\n",
        "print(\"Printing elements of second matrix\")\n",
        "print(B)\n",
        "\n",
        "print('Multiplication of two matrix')\n",
        "result = [[0, 0],\n",
        "        [0, 0]]\n",
        " \n",
        "# iterating by row of A\n",
        "for i in range(len(A)):\n",
        " \n",
        "    # iterating by column by B\n",
        "    for j in range(len(B[0])):\n",
        " \n",
        "        # iterating by rows of B\n",
        "        for k in range(len(B)):\n",
        "            result[i][j] += A[i][k] * B[k][j]\n",
        " \n",
        "for r in result:\n",
        "    print(r) \n",
        "# adding two matrix\n",
        "print(\"Addition of two matrix\")\n",
        "print(np.add(A, B))\n",
        "print(\"Subtraction of two matrix\")\n",
        "print(np.subtract(A, B))"
      ],
      "metadata": {
        "colab": {
          "base_uri": "https://localhost:8080/"
        },
        "id": "gM2-ayF1vB6z",
        "outputId": "5ca6f802-26ae-4ba1-d313-cab5297be170"
      },
      "execution_count": null,
      "outputs": [
        {
          "output_type": "stream",
          "name": "stdout",
          "text": [
            "Printing elements of first matrix\n",
            "[[1 2]\n",
            " [3 4]]\n",
            "Printing elements of second matrix\n",
            "[[4 5]\n",
            " [6 7]]\n",
            "Multiplication of two matrix\n",
            "[16, 19]\n",
            "[36, 43]\n",
            "Addition of two matrix\n",
            "[[ 5  7]\n",
            " [ 9 11]]\n",
            "Subtraction of two matrix\n",
            "[[-3 -3]\n",
            " [-3 -3]]\n"
          ]
        }
      ]
    },
    {
      "cell_type": "markdown",
      "source": [
        "##Question-11\n",
        "Write a Python program to add member(s) in a set.\n"
      ],
      "metadata": {
        "id": "CBpwmlHRvE9k"
      }
    },
    {
      "cell_type": "code",
      "source": [
        "lover = {\"Meet\",\"Geet\"}\n",
        "print(lover)\n",
        "lover.add(\"Preet\")\n",
        "print(\"Add single element : \",lover)\n",
        "lover.update([\"Ranjeet\", \"Sangeet\"])\n",
        "print(\"Add multiple items : \",lover)"
      ],
      "metadata": {
        "colab": {
          "base_uri": "https://localhost:8080/"
        },
        "id": "DUFW-c8QvUop",
        "outputId": "b2d7726f-03eb-4f25-bd1e-06b9567df558"
      },
      "execution_count": null,
      "outputs": [
        {
          "output_type": "stream",
          "name": "stdout",
          "text": [
            "{'Geet', 'Meet'}\n",
            "Add single element :  {'Preet', 'Geet', 'Meet'}\n",
            "Add multiple items :  {'Preet', 'Geet', 'Meet', 'Ranjeet', 'Sangeet'}\n"
          ]
        }
      ]
    },
    {
      "cell_type": "markdown",
      "source": [
        "## Question-12\n",
        "Write a Python program to remove item(s) from a given set.\n",
        "num_set = set([0, 1, 3, 4, 5])\n"
      ],
      "metadata": {
        "id": "WhO9YExKw2ls"
      }
    },
    {
      "cell_type": "code",
      "source": [
        "num_set = set([0, 1, 3, 4, 5])\n",
        "print(\"Original set:\")\n",
        "print(num_set)\n",
        "num_set.pop()\n",
        "print(\"\\nAfter removing the first element from the said set:\")\n",
        "print(num_set)"
      ],
      "metadata": {
        "colab": {
          "base_uri": "https://localhost:8080/"
        },
        "id": "ba0DplCuw84C",
        "outputId": "887524be-3ab0-41bb-af31-a0032d0504a3"
      },
      "execution_count": null,
      "outputs": [
        {
          "output_type": "stream",
          "name": "stdout",
          "text": [
            "Original set:\n",
            "{0, 1, 3, 4, 5}\n",
            "\n",
            "After removing the first element from the said set:\n",
            "{1, 3, 4, 5}\n"
          ]
        }
      ]
    },
    {
      "cell_type": "markdown",
      "source": [
        "## Question-13\n",
        "Write a Python program to multiply all the items in a list."
      ],
      "metadata": {
        "id": "OEfTQju3uCcK"
      }
    },
    {
      "cell_type": "code",
      "execution_count": null,
      "metadata": {
        "colab": {
          "base_uri": "https://localhost:8080/"
        },
        "id": "fZIRTjyJt42U",
        "outputId": "209934f6-9f9f-4521-c4e6-0f7341a31958"
      },
      "outputs": [
        {
          "output_type": "stream",
          "name": "stdout",
          "text": [
            "6\n",
            "24\n"
          ]
        }
      ],
      "source": [
        "# Python program to multiply all values in the\n",
        "# list using traversal\n",
        "\n",
        "def multiplyList(myList) :\n",
        "\t\n",
        "\t# Multiply elements one by one\n",
        "\tresult = 1\n",
        "\tfor x in myList:\n",
        "\t\tresult = result * x\n",
        "\treturn result\n",
        "\t\n",
        "# Driver code\n",
        "list1 = [1, 2, 3]\n",
        "list2 = [3, 2, 4]\n",
        "print(multiplyList(list1))\n",
        "print(multiplyList(list2))"
      ]
    },
    {
      "cell_type": "markdown",
      "source": [
        "## Question-14\n",
        " Write a Python program to get the largest number from a list."
      ],
      "metadata": {
        "id": "3WpJrbdjutKX"
      }
    },
    {
      "cell_type": "code",
      "source": [
        "# Python program to find largest\n",
        "# number in a list\n",
        "\n",
        "# list of numbers\n",
        "list1 = [10, 20, 4, 45, 1011]\n",
        "\n",
        "# sorting the list\n",
        "list1.sort()\n",
        "\n",
        "# printing the last element\n",
        "print(\"Largest element is:\", list1[-1])"
      ],
      "metadata": {
        "colab": {
          "base_uri": "https://localhost:8080/"
        },
        "id": "CS_oBDGtus33",
        "outputId": "411ae105-8518-40e6-b34a-1a1c15d7ed3d"
      },
      "execution_count": null,
      "outputs": [
        {
          "output_type": "stream",
          "name": "stdout",
          "text": [
            "Largest element is: 1011\n"
          ]
        }
      ]
    },
    {
      "cell_type": "markdown",
      "source": [
        "##Question-15\n",
        "Write a Python program to get the smallest number from a list."
      ],
      "metadata": {
        "id": "MsbQKdOIuU8e"
      }
    },
    {
      "cell_type": "code",
      "source": [
        "# Python program to find smallest\n",
        "# number in a list\n",
        "\n",
        "# list of numbers\n",
        "list1 = [10, 20, 15, 45, 99]\n",
        "\n",
        "# sorting the list\n",
        "list1.sort()\n",
        "\n",
        "# printing the first element\n",
        "print(\"Smallest element is:\", *list1[:1])"
      ],
      "metadata": {
        "colab": {
          "base_uri": "https://localhost:8080/"
        },
        "id": "7dlxPp6zuecg",
        "outputId": "344cea67-b70e-4138-b575-aa4366f88053"
      },
      "execution_count": null,
      "outputs": [
        {
          "output_type": "stream",
          "name": "stdout",
          "text": [
            "Smallest element is: 10\n"
          ]
        }
      ]
    }
  ]
}